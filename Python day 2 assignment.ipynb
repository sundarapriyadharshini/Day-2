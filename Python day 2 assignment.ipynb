{
 "cells": [
  {
   "cell_type": "code",
   "execution_count": 1,
   "metadata": {},
   "outputs": [],
   "source": [
    "#LIST"
   ]
  },
  {
   "cell_type": "code",
   "execution_count": 2,
   "metadata": {},
   "outputs": [],
   "source": [
    "list1 = [10,20,40,50,60,20,10]"
   ]
  },
  {
   "cell_type": "code",
   "execution_count": 3,
   "metadata": {},
   "outputs": [
    {
     "name": "stdout",
     "output_type": "stream",
     "text": [
      "[10, 20, 30, 40, 50, 60, 20, 10]\n"
     ]
    }
   ],
   "source": [
    "#insert()\n",
    "\n",
    "list1.insert(2,30)\n",
    "print(list1)"
   ]
  },
  {
   "cell_type": "code",
   "execution_count": 4,
   "metadata": {},
   "outputs": [
    {
     "name": "stdout",
     "output_type": "stream",
     "text": [
      "[10, 20, 60, 50, 40, 30, 20, 10]\n"
     ]
    }
   ],
   "source": [
    "#reverse()\n",
    "\n",
    "list1.reverse()\n",
    "print(list1)"
   ]
  },
  {
   "cell_type": "code",
   "execution_count": 5,
   "metadata": {},
   "outputs": [
    {
     "name": "stdout",
     "output_type": "stream",
     "text": [
      "2\n"
     ]
    }
   ],
   "source": [
    "#count()\n",
    "\n",
    "print(list1.count(20))"
   ]
  },
  {
   "cell_type": "code",
   "execution_count": 6,
   "metadata": {},
   "outputs": [
    {
     "name": "stdout",
     "output_type": "stream",
     "text": [
      "[10, 10, 20, 20, 30, 40, 50, 60]\n"
     ]
    }
   ],
   "source": [
    "#sort()\n",
    "\n",
    "list1.sort()\n",
    "print(list1)"
   ]
  },
  {
   "cell_type": "code",
   "execution_count": 7,
   "metadata": {},
   "outputs": [
    {
     "name": "stdout",
     "output_type": "stream",
     "text": [
      "[10, 10, 20, 30, 40, 50, 60]\n"
     ]
    }
   ],
   "source": [
    "#remove()\n",
    "\n",
    "list1.remove(20)\n",
    "print(list1)"
   ]
  },
  {
   "cell_type": "code",
   "execution_count": 8,
   "metadata": {},
   "outputs": [],
   "source": [
    "#DICTIONARY"
   ]
  },
  {
   "cell_type": "code",
   "execution_count": 9,
   "metadata": {},
   "outputs": [],
   "source": [
    "dict1 = {'Name': 'Priya', 'Reg_no': '151', 'Branch':'ECE'}"
   ]
  },
  {
   "cell_type": "code",
   "execution_count": 10,
   "metadata": {},
   "outputs": [
    {
     "name": "stdout",
     "output_type": "stream",
     "text": [
      "3\n"
     ]
    }
   ],
   "source": [
    "#len()\n",
    "\n",
    "print(len(dict1))"
   ]
  },
  {
   "cell_type": "code",
   "execution_count": 11,
   "metadata": {},
   "outputs": [
    {
     "name": "stdout",
     "output_type": "stream",
     "text": [
      "Priya\n"
     ]
    }
   ],
   "source": [
    "#get()\n",
    "\n",
    "print(dict1.get('Name'))"
   ]
  },
  {
   "cell_type": "code",
   "execution_count": 12,
   "metadata": {},
   "outputs": [
    {
     "name": "stdout",
     "output_type": "stream",
     "text": [
      "True\n",
      "False\n"
     ]
    }
   ],
   "source": [
    "#in and not in\n",
    "\n",
    "print('Reg_no' in dict1)\n",
    "print('Marks' in dict1)"
   ]
  },
  {
   "cell_type": "code",
   "execution_count": 13,
   "metadata": {},
   "outputs": [
    {
     "name": "stdout",
     "output_type": "stream",
     "text": [
      "{'Name': 'Priya', 'Reg_no': '151', 'Branch': 'ECE', 'Marks': 90, 'Grade': 'S'}\n"
     ]
    }
   ],
   "source": [
    "#update()\n",
    "\n",
    "dict2 = {'Marks':90, 'Grade': 'S'}\n",
    "dict1.update(dict2)\n",
    "print(dict1)"
   ]
  },
  {
   "cell_type": "code",
   "execution_count": 26,
   "metadata": {},
   "outputs": [
    {
     "name": "stdout",
     "output_type": "stream",
     "text": [
      "Priya  has got  85  in Maths\n"
     ]
    }
   ],
   "source": [
    "#setdefault()\n",
    "\n",
    "dict1.setdefault('Maths_marks',85)\n",
    "print(dict1['Name'], \" has got \",dict1.get('Maths_marks'), \" in Maths\")"
   ]
  },
  {
   "cell_type": "code",
   "execution_count": 27,
   "metadata": {},
   "outputs": [],
   "source": [
    "#SETS"
   ]
  },
  {
   "cell_type": "code",
   "execution_count": 29,
   "metadata": {},
   "outputs": [
    {
     "name": "stdout",
     "output_type": "stream",
     "text": [
      "{1, 2, 3, 4, 5, 6}\n"
     ]
    }
   ],
   "source": [
    "#add()\n",
    "\n",
    "set1 = set([1,2,3,4,5])\n",
    "set\n",
    "1.add(6)\n",
    "print(set1)"
   ]
  },
  {
   "cell_type": "code",
   "execution_count": 30,
   "metadata": {},
   "outputs": [],
   "source": [
    "set2= set([7,8,9,10,1,2,3])"
   ]
  },
  {
   "cell_type": "code",
   "execution_count": 31,
   "metadata": {},
   "outputs": [
    {
     "name": "stdout",
     "output_type": "stream",
     "text": [
      "{1, 2, 3, 4, 5, 6, 7, 8, 9, 10}\n"
     ]
    }
   ],
   "source": [
    "#union()\n",
    "\n",
    "print(set1|set2)"
   ]
  },
  {
   "cell_type": "code",
   "execution_count": 32,
   "metadata": {},
   "outputs": [
    {
     "name": "stdout",
     "output_type": "stream",
     "text": [
      "{1, 2, 3}\n"
     ]
    }
   ],
   "source": [
    "#intersection()\n",
    "\n",
    "print(set1 & set2)"
   ]
  },
  {
   "cell_type": "code",
   "execution_count": 38,
   "metadata": {},
   "outputs": [],
   "source": [
    "set3 = set([1,2,3])\n",
    "set4 = set([1,2,3,4,5])"
   ]
  },
  {
   "cell_type": "code",
   "execution_count": 41,
   "metadata": {},
   "outputs": [
    {
     "name": "stdout",
     "output_type": "stream",
     "text": [
      "True\n",
      "False\n"
     ]
    }
   ],
   "source": [
    "#issubset()\n",
    "\n",
    "print(set3 <= set4)\n",
    "print(set2<=set1)"
   ]
  },
  {
   "cell_type": "code",
   "execution_count": 44,
   "metadata": {},
   "outputs": [
    {
     "name": "stdout",
     "output_type": "stream",
     "text": [
      "{4, 5}\n"
     ]
    }
   ],
   "source": [
    "#difference\n",
    "\n",
    "set5 = set4 - set3\n",
    "print(set5)"
   ]
  },
  {
   "cell_type": "code",
   "execution_count": 45,
   "metadata": {},
   "outputs": [],
   "source": [
    "# TUPLE"
   ]
  },
  {
   "cell_type": "code",
   "execution_count": 46,
   "metadata": {},
   "outputs": [],
   "source": [
    "tup1 = (1,2,3,4,5)\n",
    "tup2 = (6,7,8,9,10)"
   ]
  },
  {
   "cell_type": "code",
   "execution_count": 47,
   "metadata": {},
   "outputs": [
    {
     "name": "stdout",
     "output_type": "stream",
     "text": [
      "(1, 2, 3, 4, 5, 6, 7, 8, 9, 10)\n"
     ]
    }
   ],
   "source": [
    "#concatenation\n",
    "\n",
    "tup3= tup1 + tup2\n",
    "print(tup3)"
   ]
  },
  {
   "cell_type": "code",
   "execution_count": 53,
   "metadata": {},
   "outputs": [
    {
     "name": "stdout",
     "output_type": "stream",
     "text": [
      "Index of 6 is  5\n"
     ]
    }
   ],
   "source": [
    "#index()\n",
    "\n",
    "print(\"Index of 6 is \", tup3.index(6))"
   ]
  },
  {
   "cell_type": "code",
   "execution_count": 55,
   "metadata": {},
   "outputs": [
    {
     "name": "stdout",
     "output_type": "stream",
     "text": [
      "Maximum value in tuple is  96\n",
      "Minimum value in tuple is  7\n"
     ]
    }
   ],
   "source": [
    "# max and min\n",
    "\n",
    "tup4= (12,43,7,35,96,13)\n",
    "print(\"Maximum value in tuple is \", max(tup4))\n",
    "print(\"Minimum value in tuple is \", min(tup4))"
   ]
  },
  {
   "cell_type": "code",
   "execution_count": 63,
   "metadata": {},
   "outputs": [
    {
     "name": "stdout",
     "output_type": "stream",
     "text": [
      "Value at index 0:  12\n",
      "Values from index 1 to index 4:  (43, 7, 35, 96)\n"
     ]
    }
   ],
   "source": [
    "#accessing values\n",
    "print (\"Value at index 0: \", tup4[0])\n",
    "print (\"Values from index 1 to index 4: \", tup4[1:5])"
   ]
  },
  {
   "cell_type": "code",
   "execution_count": 65,
   "metadata": {},
   "outputs": [
    {
     "name": "stdout",
     "output_type": "stream",
     "text": [
      "('Shiv', 'BSc', 98)\n",
      "('Krish', 'BCA', 96)\n",
      "('Ram', 'BTech', 99)\n"
     ]
    }
   ],
   "source": [
    "#nested tuples\n",
    "\n",
    "toppers = ((\"Shiv\", \"BSc\", 98), (\"Krish\", \"BCA\", 96), (\"Ram\", \"BTech\", 99))\n",
    "for item in toppers:\n",
    "    print(item)"
   ]
  },
  {
   "cell_type": "code",
   "execution_count": 66,
   "metadata": {},
   "outputs": [],
   "source": [
    "#STRINGS"
   ]
  },
  {
   "cell_type": "code",
   "execution_count": 67,
   "metadata": {},
   "outputs": [],
   "source": [
    "str1 = \" The world is beautiful  \""
   ]
  },
  {
   "cell_type": "code",
   "execution_count": 76,
   "metadata": {},
   "outputs": [
    {
     "name": "stdout",
     "output_type": "stream",
     "text": [
      "the world is beautiful\n",
      "THE WORLD IS BEAUTIFUL\n"
     ]
    }
   ],
   "source": [
    "#lower(), upper()\n",
    "\n",
    "print(str1.lower())\n",
    "print(str1.upper())"
   ]
  },
  {
   "cell_type": "code",
   "execution_count": 79,
   "metadata": {},
   "outputs": [
    {
     "name": "stdout",
     "output_type": "stream",
     "text": [
      "  world  \n",
      "world\n"
     ]
    }
   ],
   "source": [
    "#strip()\n",
    "\n",
    "str2 = \"  world  \"\n",
    "print(str2)\n",
    "print(str2.strip())"
   ]
  },
  {
   "cell_type": "code",
   "execution_count": 80,
   "metadata": {},
   "outputs": [
    {
     "name": "stdout",
     "output_type": "stream",
     "text": [
      "Life is beautiful\n"
     ]
    }
   ],
   "source": [
    "#replace()\n",
    "\n",
    "print(str1.replace(\"The world\", \"Life\"))"
   ]
  },
  {
   "cell_type": "code",
   "execution_count": 82,
   "metadata": {},
   "outputs": [
    {
     "name": "stdout",
     "output_type": "stream",
     "text": [
      "tHE wORLD\n"
     ]
    }
   ],
   "source": [
    "#swapcase()\n",
    "\n",
    "str3= \"The World\"\n",
    "print(str3.swapcase())"
   ]
  },
  {
   "cell_type": "code",
   "execution_count": 85,
   "metadata": {},
   "outputs": [
    {
     "name": "stdout",
     "output_type": "stream",
     "text": [
      "True\n",
      "False\n",
      "True\n"
     ]
    }
   ],
   "source": [
    "#isalnum(), isalpha(), isdigit()\n",
    "\n",
    "str4 = \"JamesBond007\"\n",
    "\n",
    "print(str4.isalnum())\n",
    "print(str4.isalpha())\n",
    "\n",
    "str5 = \"007\"\n",
    "print(str5.isdigit())"
   ]
  },
  {
   "cell_type": "code",
   "execution_count": null,
   "metadata": {},
   "outputs": [],
   "source": []
  }
 ],
 "metadata": {
  "kernelspec": {
   "display_name": "Python 3",
   "language": "python",
   "name": "python3"
  },
  "language_info": {
   "codemirror_mode": {
    "name": "ipython",
    "version": 3
   },
   "file_extension": ".py",
   "mimetype": "text/x-python",
   "name": "python",
   "nbconvert_exporter": "python",
   "pygments_lexer": "ipython3",
   "version": "3.8.3"
  }
 },
 "nbformat": 4,
 "nbformat_minor": 4
}
